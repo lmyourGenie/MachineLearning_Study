{
 "cells": [
  {
   "cell_type": "markdown",
   "metadata": {},
   "source": [
    "# 🍓 회귀 (Regression)\n",
    "\n",
    "## 🍋 1. 상관분석과 회귀분석\n",
    "\n",
    "\n",
    "### 1.1 상관분석 (Correlation Analysis)\n",
    "\n",
    "> 독립변수와 종속변수 간의 관계의 강도,  \n",
    "즉 __얼마나 밀접하게 관련돼 있는지__ 를 분석하는 것  \n",
    "상관성 유무만 확인할 뿐, 인과관계는 분석X\n",
    "\n",
    "\n",
    "\n",
    "핵심은 **상관계수** 구하기  \n",
    "* 상관계수(r) : 독립변수와 종속변수의 관계 정도를 -1과 1 사이로 정량화한 것  \n",
    "\n",
    "<img src=\"https://mania.kr/g2/data/cheditor5/2002/view_thumbnail/mania-done-20200226124719_khlwxfkv.jpg\" width =\"600\" height=\"320\" alt=\"상관 계수\" title=\"상관 계수\">  \n",
    "* 선형적 상관성이 클수록 상관관계가 강하다고 표현함  \n",
    "\n",
    "\n",
    "### 1.2 회귀분석 (Regression Analysis)\n",
    "> 독립변수와 종속변수의 상관 관계를 함수식으로 규명하는 것\n",
    "\n",
    "결정계수(r^2) : 독립변수를 통한 종속변수 __예측이 얼마나 의미 있는 정보인지__ 를 판별함  \n",
    "결정계수가 0.65보다 크거나 같으면 의미 있는 회귀식이라고 함  \n",
    "\n",
    "\n",
    "\n",
    "___\n",
    "\n"
   ]
  },
  {
   "cell_type": "markdown",
   "metadata": {},
   "source": [
    "## 🍋 2. 선형 회귀\n",
    "> 선형이라는 건 독립변수가 __1차항__ 으로 되어 있다는 의미\n",
    "\n",
    "$$ f(x+y)=f(x)+f(y) $$\n",
    "$$ f(ax)=af(x) $$\n",
    "\n",
    "선형회귀식을 구할 때는 일반적으로 __최소제곱법__ 을 이용함   \n",
    "\n",
    "__최소제곱법__ : 주어진 독립변수에 대해 어떤 함수식으로 예측한 __결과값과 실제값의 차이__ 를 __제곱해서 모두 더한 값__ 이 __최소__ 가 되는 함수식이 가장 타당한 회귀식이라는 이론  \n",
    "  \n",
    "독립변수의 수에 따라 `단순선형회귀`와 `다중선형회귀`로 구분함 \n",
    "\n",
    "\n",
    "### 2.1 단순선형회귀(simple linear regression)"
   ]
  },
  {
   "cell_type": "code",
   "execution_count": 1,
   "metadata": {},
   "outputs": [],
   "source": [
    "'''\n",
    "단순선형회귀\n",
    "\n",
    "키와 몸무게에 대한 데이터로\n",
    "\n",
    "새로운 키가 주어졌을 때 몸무게 예측\n",
    "'''\n",
    "from sklearn.linear_model import LinearRegression\n",
    "import numpy as np\n",
    "import matplotlib.pyplot as plt\n",
    "import pandas as pd"
   ]
  },
  {
   "cell_type": "code",
   "execution_count": 2,
   "metadata": {},
   "outputs": [
    {
     "data": {
      "text/html": [
       "<div>\n",
       "<style scoped>\n",
       "    .dataframe tbody tr th:only-of-type {\n",
       "        vertical-align: middle;\n",
       "    }\n",
       "\n",
       "    .dataframe tbody tr th {\n",
       "        vertical-align: top;\n",
       "    }\n",
       "\n",
       "    .dataframe thead th {\n",
       "        text-align: right;\n",
       "    }\n",
       "</style>\n",
       "<table border=\"1\" class=\"dataframe\">\n",
       "  <thead>\n",
       "    <tr style=\"text-align: right;\">\n",
       "      <th></th>\n",
       "      <th>height</th>\n",
       "      <th>weight</th>\n",
       "    </tr>\n",
       "  </thead>\n",
       "  <tbody>\n",
       "    <tr>\n",
       "      <th>0</th>\n",
       "      <td>163.28</td>\n",
       "      <td>45.07</td>\n",
       "    </tr>\n",
       "    <tr>\n",
       "      <th>1</th>\n",
       "      <td>172.66</td>\n",
       "      <td>56.88</td>\n",
       "    </tr>\n",
       "    <tr>\n",
       "      <th>2</th>\n",
       "      <td>166.83</td>\n",
       "      <td>50.60</td>\n",
       "    </tr>\n",
       "    <tr>\n",
       "      <th>3</th>\n",
       "      <td>160.40</td>\n",
       "      <td>44.35</td>\n",
       "    </tr>\n",
       "    <tr>\n",
       "      <th>4</th>\n",
       "      <td>174.13</td>\n",
       "      <td>60.98</td>\n",
       "    </tr>\n",
       "  </tbody>\n",
       "</table>\n",
       "</div>"
      ],
      "text/plain": [
       "   height  weight\n",
       "0  163.28   45.07\n",
       "1  172.66   56.88\n",
       "2  166.83   50.60\n",
       "3  160.40   44.35\n",
       "4  174.13   60.98"
      ]
     },
     "execution_count": 2,
     "metadata": {},
     "output_type": "execute_result"
    }
   ],
   "source": [
    "#데이터 읽기\n",
    "url='https://raw.githubusercontent.com/lmyourGenie/MachineLearning_Study/master/basic_concept/resource/data1.csv'\n",
    "df=pd.read_csv(url)\n",
    "df.head()"
   ]
  },
  {
   "cell_type": "code",
   "execution_count": 3,
   "metadata": {},
   "outputs": [
    {
     "data": {
      "image/png": "[encoded data removed]",
      "text/plain": [
       "<Figure size 432x288 with 1 Axes>"
      ]
     },
     "metadata": {
      "needs_background": "light"
     },
     "output_type": "display_data"
    }
   ],
   "source": [
    "X=np.array(df['height'])\n",
    "y=np.array(df['weight'])\n",
    "plt.scatter(X,y)\n",
    "plt.show()"
   ]
  },
  {
   "cell_type": "code",
   "execution_count": 4,
   "metadata": {},
   "outputs": [
    {
     "data": {
      "text/plain": [
       "LinearRegression()"
      ]
     },
     "execution_count": 4,
     "metadata": {},
     "output_type": "execute_result"
    }
   ],
   "source": [
    "#데이터 학습\n",
    "line_fitter = LinearRegression()\n",
    "line_fitter.fit(X.reshape(-1,1), y)"
   ]
  },
  {
   "cell_type": "code",
   "execution_count": 5,
   "metadata": {},
   "outputs": [
    {
     "data": {
      "text/plain": [
       "array([57.43932609])"
      ]
     },
     "execution_count": 5,
     "metadata": {},
     "output_type": "execute_result"
    }
   ],
   "source": [
    "line_fitter.predict([[172.03]])  #키가 주어지면 몸무게를 알려줌"
   ]
  },
  {
   "cell_type": "code",
   "execution_count": 6,
   "metadata": {},
   "outputs": [
    {
     "data": {
      "text/plain": [
       "array([1.24161862])"
      ]
     },
     "execution_count": 6,
     "metadata": {},
     "output_type": "execute_result"
    }
   ],
   "source": [
    "line_fitter.coef_ #기울기"
   ]
  },
  {
   "cell_type": "code",
   "execution_count": 7,
   "metadata": {},
   "outputs": [
    {
     "data": {
      "text/plain": [
       "-156.15632437241558"
      ]
     },
     "execution_count": 7,
     "metadata": {},
     "output_type": "execute_result"
    }
   ],
   "source": [
    "line_fitter.intercept_ #절편"
   ]
  },
  {
   "cell_type": "code",
   "execution_count": 8,
   "metadata": {},
   "outputs": [
    {
     "data": {
      "image/png": "[encoded data removed]",
      "text/plain": [
       "<Figure size 432x288 with 1 Axes>"
      ]
     },
     "metadata": {
      "needs_background": "light"
     },
     "output_type": "display_data"
    }
   ],
   "source": [
    "plt.plot(X, y, 'o')\n",
    "plt.plot(X,line_fitter.predict(X.reshape(-1,1)))\n",
    "plt.show()"
   ]
  },
  {
   "cell_type": "markdown",
   "metadata": {},
   "source": [
    "<br/>\n",
    "\n",
    "~~하쥐만 우리가 사는 세상은 단순회귀로 풀릴 만큼 그렇게 단순하지 않다. 고려해야 하는 변수 X가 하나가 아니라는 뜻😭~~  \n",
    "<br/>\n",
    "\n",
    "\n",
    "  \n",
    "\n",
    "### 2.2 다중선형회귀(multiple linear regression)\n"
   ]
  },
  {
   "cell_type": "code",
   "execution_count": 9,
   "metadata": {},
   "outputs": [],
   "source": [
    "'''\n",
    "다중선형회귀\n",
    "\n",
    "'''\n",
    "from sklearn import linear_model\n",
    "import numpy as np\n",
    "import pandas as pd\n",
    "import matplotlib\n",
    "import matplotlib.pyplot as plt"
   ]
  },
  {
   "cell_type": "code",
   "execution_count": 10,
   "metadata": {},
   "outputs": [
    {
     "data": {
      "text/html": [
       "<div>\n",
       "<style scoped>\n",
       "    .dataframe tbody tr th:only-of-type {\n",
       "        vertical-align: middle;\n",
       "    }\n",
       "\n",
       "    .dataframe tbody tr th {\n",
       "        vertical-align: top;\n",
       "    }\n",
       "\n",
       "    .dataframe thead th {\n",
       "        text-align: right;\n",
       "    }\n",
       "</style>\n",
       "<table border=\"1\" class=\"dataframe\">\n",
       "  <thead>\n",
       "    <tr style=\"text-align: right;\">\n",
       "      <th></th>\n",
       "      <th>x1</th>\n",
       "      <th>x2</th>\n",
       "      <th>y</th>\n",
       "    </tr>\n",
       "  </thead>\n",
       "  <tbody>\n",
       "    <tr>\n",
       "      <th>0</th>\n",
       "      <td>13</td>\n",
       "      <td>9</td>\n",
       "      <td>20</td>\n",
       "    </tr>\n",
       "    <tr>\n",
       "      <th>1</th>\n",
       "      <td>18</td>\n",
       "      <td>7</td>\n",
       "      <td>22</td>\n",
       "    </tr>\n",
       "    <tr>\n",
       "      <th>2</th>\n",
       "      <td>17</td>\n",
       "      <td>17</td>\n",
       "      <td>30</td>\n",
       "    </tr>\n",
       "    <tr>\n",
       "      <th>3</th>\n",
       "      <td>20</td>\n",
       "      <td>11</td>\n",
       "      <td>27</td>\n",
       "    </tr>\n",
       "    <tr>\n",
       "      <th>4</th>\n",
       "      <td>22</td>\n",
       "      <td>8</td>\n",
       "      <td>35</td>\n",
       "    </tr>\n",
       "    <tr>\n",
       "      <th>5</th>\n",
       "      <td>21</td>\n",
       "      <td>10</td>\n",
       "      <td>32</td>\n",
       "    </tr>\n",
       "  </tbody>\n",
       "</table>\n",
       "</div>"
      ],
      "text/plain": [
       "   x1  x2   y\n",
       "0  13   9  20\n",
       "1  18   7  22\n",
       "2  17  17  30\n",
       "3  20  11  27\n",
       "4  22   8  35\n",
       "5  21  10  32"
      ]
     },
     "execution_count": 10,
     "metadata": {},
     "output_type": "execute_result"
    }
   ],
   "source": [
    "#데이터 직접 추가\n",
    "data = {'x1' : [13, 18, 17, 20, 22, 21],  \n",
    "       'x2' : [9, 7, 17, 11, 8, 10],\n",
    "       'y' : [20, 22, 30, 27, 35, 32]}\n",
    "# data 변수 안에 dictionary형태의 x1, x2, y key 이름을 가진 데이터를 생성\n",
    "\n",
    "data = pd.DataFrame(data)                 \n",
    "# data변수 안에 저장된 데이터를 pandas.DataFrame 함수를 통해 2차원의 수정 가능한 테이블 형태의 구조로 변경 후 data 변수에 저장\n",
    "\n",
    "X = data[['x1', 'x2']]                   \n",
    "# 독립변수들을 따로 변수에 저장. \"data\"데이터 프레임 안에 독립변수 \"x1\"과 \"x2\"를 \"X\"라는 변수에 저장.\n",
    "\n",
    "y = data['y']\n",
    "data"
   ]
  },
  {
   "cell_type": "code",
   "execution_count": 16,
   "metadata": {},
   "outputs": [
    {
     "data": {
      "image/png": "[encoded data removed]",
      "text/plain": [
       "<Figure size 432x288 with 1 Axes>"
      ]
     },
     "metadata": {
      "needs_background": "light"
     },
     "output_type": "display_data"
    }
   ],
   "source": [
    "#3차원 그래프로 표현하기\n",
    "\n",
    "from mpl_toolkits.mplot3d import Axes3D\n",
    "xmin, xmax = 0, 6\n",
    "cmin = 0\n",
    "n=6\n",
    "color = (xmax - xmin) * np.random.rand(n) + cmin\n",
    "\n",
    "x1=data['x1']\n",
    "x2=data['x2']\n",
    "fig = plt.figure()\n",
    "ax = fig.add_subplot(111,projection='3d') #3D axes 생성\n",
    "ax.scatter(x1, x2, y, c=color, s=100, cmap='PuRd') #c:color어레이의 값들, s:크기\n",
    "ax.set_xlabel('x1')\n",
    "ax.set_ylabel('x2')\n",
    "ax.set_zlabel('y')\n",
    "\n",
    "plt.show()"
   ]
  },
  {
   "cell_type": "code",
   "execution_count": 17,
   "metadata": {},
   "outputs": [
    {
     "name": "stdout",
     "output_type": "stream",
     "text": [
      "a value =  -7.35920177383591\n",
      "b value =  [1.5443459  0.62472284]\n"
     ]
    }
   ],
   "source": [
    "#데이터 학습\n",
    "linear_regression = linear_model.LinearRegression()\n",
    "linear_regression.fit(X = pd.DataFrame(X), y = y)\n",
    "prediction = linear_regression.predict(X = pd.DataFrame(X))\n",
    "print('a value = ', linear_regression.intercept_)\n",
    "print('b value = ', linear_regression.coef_)\n",
    "#하나의 a값에 두개의 b값이 출력됨"
   ]
  },
  {
   "cell_type": "code",
   "execution_count": 18,
   "metadata": {},
   "outputs": [
    {
     "data": {
      "text/plain": [
       "count    6.000000e+00\n",
       "mean    -4.736952e-15\n",
       "std      2.622371e+00\n",
       "min     -3.399667e+00\n",
       "25%     -1.987805e+00\n",
       "50%      5.828714e-01\n",
       "75%      1.415327e+00\n",
       "max      3.385809e+00\n",
       "Name: y, dtype: float64"
      ]
     },
     "execution_count": 18,
     "metadata": {},
     "output_type": "execute_result"
    }
   ],
   "source": [
    "# 적합도 검증 - 잔차\n",
    "residuals = y-prediction\n",
    "residuals.describe()"
   ]
  },
  {
   "cell_type": "code",
   "execution_count": 19,
   "metadata": {},
   "outputs": [
    {
     "name": "stdout",
     "output_type": "stream",
     "text": [
      "R_squared =  0.7969440176685233\n"
     ]
    }
   ],
   "source": [
    "# 적합도 검증 - 결정계수 r^2\n",
    "SSE = (residuals**2).sum()\n",
    "SST = ((y-y.mean())**2).sum()\n",
    "R_squared = 1 - (SSE/SST)\n",
    "print('R_squared = ', R_squared)"
   ]
  },
  {
   "cell_type": "code",
   "execution_count": 20,
   "metadata": {},
   "outputs": [
    {
     "name": "stdout",
     "output_type": "stream",
     "text": [
      "score =  0.7969440176685233\n",
      "Mean_Squared_Error =  5.730691056910563\n",
      "RMSE =  2.393886182948254\n"
     ]
    }
   ],
   "source": [
    "#성능 평가\n",
    "from sklearn.metrics import mean_squared_error\n",
    "print('score = ', linear_regression.score(X =pd.DataFrame(X), y=y))\n",
    "print('Mean_Squared_Error = ', mean_squared_error(prediction, y))\n",
    "print('RMSE = ', mean_squared_error(prediction, y)**0.5)\n",
    "\n",
    "# RMSE가 약 2.39로 오차 작음"
   ]
  },
  {
   "cell_type": "markdown",
   "metadata": {},
   "source": [
    "\n",
    "  \n",
    "---\n",
    "  \n",
    "<br/>\n",
    "  \n",
    "\n",
    "## 🍋 3. 로지스틱 회귀\n",
    "> 독립 변수의 선형 결합을 이용하여 사건의 발생 가능성을 예측하는데 사용되는 통계 기법  \n",
    "__범주형 변수를 예측하는 모델__   \n",
    "종속변수가 예/아니오, 1/0, 합격/불합격 처럼 카테고리로 딱 딱 나눠질 때는 로지스틱 회귀를 사용함\n",
    "\n",
    "특히 예/아니오처럼 종속변수가 2가지 범주에 속할 때 *이진형 로지스틱 회귀모델*이라고함  \n",
    "\n",
    "실제로는 예측을 의미하는 회귀분석보다는 분류 모델에 가까움  \n",
    "<br/>\n",
    "\n",
    "출력값이 [0,1]을 경계로 결정되는 로지스틱 함수를 회귀식으로 사용함  \n",
    "<br/>\n",
    "\n",
    "독립변수 x, 임의의 계수 β0, β1에 대해 로지스틱 함수를 표현하면  \n",
    "\n",
    "\n",
    "$$ p\\left(x\\right)_{\\beta _0,\\beta _1}=\\frac{e^{_{\\beta _0+\\beta _1x}}}{1+e^{_{\\beta _0+\\beta _1x}}} $$"
   ]
  },
  {
   "cell_type": "markdown",
   "metadata": {},
   "source": [
    "로지스틱 회귀 분석의 1차 목표는 회귀식을 결정하는 계수의 값을 알아내는 것!  \n",
    "\n",
    "일반적으로 __최대가능도법__ (maximum likelihood method , MLE)을 사용함  \n",
    "<br/>\n",
    "\n",
    "\n",
    "__최대가능도법__ : 관찰된 데이터세트가 가장 들어 맞는(likely) 회귀식을 찾는 방법  \n",
    "가능도함수를 최대로 하는 확률을 찾는 방법  \n",
    "\n",
    "1. 두 개의 범주 y=1, y=0에 대한 확률을 다음과 같이 정의  \n"
   ]
  },
  {
   "cell_type": "markdown",
   "metadata": {},
   "source": [
    "$$\n",
    "P\\left(y=1|\\ x;\\ \\beta _0,\\beta _1\\right)=p\\left(x\\right)_{\\beta _0,\\beta _1}\n",
    "$$  \n",
    "</br>\n",
    "\n",
    "$$\n",
    "P\\left(y=0|\\ x;\\ \\beta _0,\\beta _1\\right)=1-p\\left(x\\right)_{\\beta _0,\\beta _1}\n",
    "$$"
   ]
  },
  {
   "cell_type": "markdown",
   "metadata": {},
   "source": [
    "2. 학습 데이터세트를 적용하여 가능도(likelihood) 구하기\n",
    "$$\n",
    "\\mathcal{L}(\\beta _0,\\beta _1)=\\prod _{i=1}^n\\overline {P}\\left(y^i\\ |\\ x^i;\\ \\beta _0,\\beta _1\\right)\\\\ =\\prod _{i=1}^n\\left(p\\left(x^i\\right)_{\\beta _0,\\beta _1}\\right)^{y^i}\\left(1-p\\left(x^i\\right)_{\\beta _0,\\beta _1}\\right)^{1-y^i}\n",
    "$$  \n",
    "\n",
    "<br/>\n",
    "\n",
    "\n",
    "3. 로그 가능도(log likelihood) 구하기\n",
    "$$\n",
    "\\ln\\mathcal{L}\\left( \\beta _0,\\beta _1\\right)\\\\ =\\prod _{i=1}^n\\left(y^i\\ln p\\left(x^i\\right)_{\\beta _0,\\beta _1}+\\left(1-y^i\\right)\\ln \\left(1-p\\left(x^i\\right)_{\\beta _0,\\beta _1}\\right)\\right)\\\\ \n",
    "$$  \n",
    "\n",
    "<br/>\n",
    "\n",
    "\n",
    "4. 로그 가능도를 최대로 하는 β값 찾기 위해 델타 룰 적용\n",
    "$$\n",
    " \\frac{\\partial ln\\mathcal{L}(\\beta _0,\\beta _1)}{\\partial \\beta _0}\\\\ =\\left(y^i\\frac{1}{p\\left(x^i\\right)_{\\beta _0,\\beta _1}}-\\left(1-y^i\\right)\\frac{1}{1-p\\left(x^i\\right)_{\\beta _0,\\beta _1}}\\right)\\frac{\\partial p\\left(x^i\\right)_{\\beta _0,\\beta _1}}{\\partial \\beta _0}\\\\ =y^i-p\\left(x^i\\right)_{\\beta _0,\\beta _1}\n",
    "$$  \n",
    "<br/>\n",
    "\n",
    "$$\n",
    "\\frac{\\partial ln\\mathcal{L} (\\beta _0,\\beta _1)}{\\partial \\beta _1}\\\\ =\\left(y^i\\frac{1}{p\\left(x^i\\right)_{\\beta _0,\\beta _1}}-\\left(1-y^i\\right)\\frac{1}{1-p\\left(x^i\\right)_{\\beta _0,\\beta _1}}\\right)\\frac{\\partial p\\left(x^i\\right)_{\\beta _0,\\beta _1}}{\\partial \\beta _1}\\\\ =\\left(y^i-p\\left(x^i\\right)_{\\beta _0,\\beta _1}\\right)x^i\n",
    "$$  \n",
    "\n",
    "<br/>\n",
    "\n",
    "\n",
    "5. 학습률 α를 적용하여 계수 β 구하기\n",
    "$$\n",
    "\\beta _0\\ :\\ \\beta _0+\\alpha \\frac{\\partial \\ln \\mathcal{L}\\left(\\beta _0,\\beta _1\\right)}{\\partial \\beta _0}\\\\ =\\beta _0+\\alpha \\left(y^i-p\\left(x^i\\right)_{\\beta _0,\\beta _1}\\right)\n",
    "$$  \n",
    "<br/>\n",
    "\n",
    "$$\n",
    "\\beta _1\\ :\\ \\beta _1+\\alpha \\frac{\\partial \\ln \\mathcal{L}\\left(\\beta _0,\\beta _1\\right)}{\\partial \\beta _1}\\\\ =\\beta _1+\\alpha \\left(y^i-p\\left(x^i\\right)_{\\beta _0,\\beta _1}\\right)\n",
    "$$  \n",
    "<br/>\n"
   ]
  },
  {
   "cell_type": "markdown",
   "metadata": {},
   "source": [
    "---\n",
    "\n",
    "<br/>\n",
    "\n",
    "\n",
    "* 참고\n",
    "\n",
    "| 라이브러리 | 설명 |\n",
    "|:---: | :---: |\n",
    "| Pandas | 행과 열로 이루어진 데이터 객체를 만들어 다룰 수 있게 되며 보다 안정적으로 대용량의 데이터들을 처리하는데 매우 편리한 도구 |\n",
    "| numpy | 다차원 배열을 처리하는데 필요한 여러 유용한 기능을 제공 |\n",
    "| sklearn | 머신러닝 교육을 위한 파이썬 패키지 |\n",
    "| train_test_split | 딥러닝을 제외하고도 다양한 기계학습과 데이터 분석 툴을 제공하는 scikit-learn 패키지 중 model_selection에 데이터 분할을 위한 함수 |\n",
    "| statsmodels | 검정 및 추정 , 회귀분석, 시계열분석등의 다양한 통계분석 기능을 제공 |\n",
    "\n",
    "<br/>\n",
    "<br/>\n",
    "<br/>\n",
    "\n",
    "\n",
    "* 출처\n",
    "파이썬을 이용한 데이터 분석"
   ]
  }
 ],
 "metadata": {
  "kernelspec": {
   "display_name": "Python 3",
   "language": "python",
   "name": "python3"
  },
  "language_info": {
   "codemirror_mode": {
    "name": "ipython",
    "version": 3
   },
   "file_extension": ".py",
   "mimetype": "text/x-python",
   "name": "python",
   "nbconvert_exporter": "python",
   "pygments_lexer": "ipython3",
   "version": "3.8.3"
  }
 },
 "nbformat": 4,
 "nbformat_minor": 4
}
