{
 "cells": [
  {
   "cell_type": "markdown",
   "metadata": {},
   "source": [
    "# 🍓 군집 Clustering\n",
    "## 🍋 1. 군집 모델  \n",
    "\n",
    "군집 모델에는 분할 기반의 군집과 계층적 군집 모델이 존재  \n",
    "* 분할 기반 군집 모델 : k-means, k-medoids, DBSCAn ...\n",
    "* 계층적 군집 모델 : 병합적 군집, 분할적 군집\n",
    "\n",
    "\n",
    "<br/>\n",
    "\n",
    "\n",
    "---\n",
    "\n",
    "\n",
    "## 🍋 2. 분할 기반 군집 모델\n",
    "### 2.1 k-means 클러스터링\n",
    "\n",
    ">  주어진 데이터를 __k개의 클러스터__ 로 묶는 알고리즘  \n",
    "레이블이 없는 입력 데이터에 레이블을 달아주는 역할을 수행\n",
    "\n",
    "분류할 클러스터의 수(k)가 정해지면 각 클러스터마다 초기중심을 정함  \n",
    "\n",
    "__*중심 ?*__ \n",
    ": 클러스터를 대표하는 가상의 레이블이며 각 학습 데이터가 자신이 속한 클러스터를 결정하는 기준점 !  \n",
    "\n",
    "\n",
    "* k-means의 목표\n",
    "    * = 최적의 중심을 구하는 것\n",
    "    * = 각 집합별 중심점~집합 내 오브젝트간 거리의 제곱합을 최소로 하는 집합 S를 찾는 것\n",
    "    \n",
    "\n",
    "### 2.2 DBSCAN 클러스터링"
   ]
  },
  {
   "cell_type": "code",
   "execution_count": null,
   "metadata": {},
   "outputs": [],
   "source": []
  }
 ],
 "metadata": {
  "kernelspec": {
   "display_name": "Python 3",
   "language": "python",
   "name": "python3"
  },
  "language_info": {
   "codemirror_mode": {
    "name": "ipython",
    "version": 3
   },
   "file_extension": ".py",
   "mimetype": "text/x-python",
   "name": "python",
   "nbconvert_exporter": "python",
   "pygments_lexer": "ipython3",
   "version": "3.8.3"
  }
 },
 "nbformat": 4,
 "nbformat_minor": 4
}
